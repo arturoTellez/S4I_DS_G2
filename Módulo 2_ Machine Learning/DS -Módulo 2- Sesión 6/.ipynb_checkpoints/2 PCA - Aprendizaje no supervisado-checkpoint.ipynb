{
 "cells": [
  {
   "cell_type": "markdown",
   "metadata": {},
   "source": [
    "### Data Science\n",
    "### Módulo 2 _ Machine Learning\n",
    "### Aprendizaje no supervisado\n",
    "\n",
    "# PCA - Reducción de Dimensionalidad\n",
    "### `Skillsforindustry.org`\n"
   ]
  },
  {
   "cell_type": "code",
   "execution_count": 3,
   "metadata": {},
   "outputs": [],
   "source": [
    "import pandas as pd\n",
    "import numpy as np\n",
    "import matplotlib.pyplot as plt\n",
    "%matplotlib inline\n",
    "plt.rcParams['figure.figsize'] = (16, 9)\n",
    "plt.style.use('ggplot')\n",
    "from sklearn.decomposition import PCA\n",
    "from sklearn.preprocessing import StandardScaler"
   ]
  },
  {
   "cell_type": "code",
   "execution_count": 4,
   "metadata": {},
   "outputs": [
    {
     "data": {
      "text/html": [
       "<div>\n",
       "<style scoped>\n",
       "    .dataframe tbody tr th:only-of-type {\n",
       "        vertical-align: middle;\n",
       "    }\n",
       "\n",
       "    .dataframe tbody tr th {\n",
       "        vertical-align: top;\n",
       "    }\n",
       "\n",
       "    .dataframe thead th {\n",
       "        text-align: right;\n",
       "    }\n",
       "</style>\n",
       "<table border=\"1\" class=\"dataframe\">\n",
       "  <thead>\n",
       "    <tr style=\"text-align: right;\">\n",
       "      <th></th>\n",
       "      <th>ingresos</th>\n",
       "      <th>gastos_comunes</th>\n",
       "      <th>pago_coche</th>\n",
       "      <th>gastos_otros</th>\n",
       "      <th>ahorros</th>\n",
       "      <th>vivienda</th>\n",
       "      <th>estado_civil</th>\n",
       "      <th>hijos</th>\n",
       "      <th>trabajo</th>\n",
       "      <th>comprar</th>\n",
       "    </tr>\n",
       "  </thead>\n",
       "  <tbody>\n",
       "    <tr>\n",
       "      <th>192</th>\n",
       "      <td>4653</td>\n",
       "      <td>1024</td>\n",
       "      <td>447</td>\n",
       "      <td>703</td>\n",
       "      <td>16952</td>\n",
       "      <td>392957</td>\n",
       "      <td>0</td>\n",
       "      <td>0</td>\n",
       "      <td>3</td>\n",
       "      <td>0</td>\n",
       "    </tr>\n",
       "    <tr>\n",
       "      <th>193</th>\n",
       "      <td>3390</td>\n",
       "      <td>881</td>\n",
       "      <td>194</td>\n",
       "      <td>584</td>\n",
       "      <td>34601</td>\n",
       "      <td>304112</td>\n",
       "      <td>2</td>\n",
       "      <td>2</td>\n",
       "      <td>5</td>\n",
       "      <td>0</td>\n",
       "    </tr>\n",
       "    <tr>\n",
       "      <th>194</th>\n",
       "      <td>2969</td>\n",
       "      <td>623</td>\n",
       "      <td>72</td>\n",
       "      <td>620</td>\n",
       "      <td>29663</td>\n",
       "      <td>289205</td>\n",
       "      <td>2</td>\n",
       "      <td>2</td>\n",
       "      <td>6</td>\n",
       "      <td>0</td>\n",
       "    </tr>\n",
       "    <tr>\n",
       "      <th>195</th>\n",
       "      <td>4169</td>\n",
       "      <td>1292</td>\n",
       "      <td>48</td>\n",
       "      <td>333</td>\n",
       "      <td>28503</td>\n",
       "      <td>239872</td>\n",
       "      <td>2</td>\n",
       "      <td>1</td>\n",
       "      <td>7</td>\n",
       "      <td>1</td>\n",
       "    </tr>\n",
       "    <tr>\n",
       "      <th>196</th>\n",
       "      <td>4054</td>\n",
       "      <td>1095</td>\n",
       "      <td>371</td>\n",
       "      <td>440</td>\n",
       "      <td>22183</td>\n",
       "      <td>223971</td>\n",
       "      <td>1</td>\n",
       "      <td>0</td>\n",
       "      <td>3</td>\n",
       "      <td>0</td>\n",
       "    </tr>\n",
       "    <tr>\n",
       "      <th>197</th>\n",
       "      <td>3831</td>\n",
       "      <td>690</td>\n",
       "      <td>352</td>\n",
       "      <td>488</td>\n",
       "      <td>10723</td>\n",
       "      <td>363120</td>\n",
       "      <td>0</td>\n",
       "      <td>0</td>\n",
       "      <td>2</td>\n",
       "      <td>0</td>\n",
       "    </tr>\n",
       "    <tr>\n",
       "      <th>198</th>\n",
       "      <td>3961</td>\n",
       "      <td>1030</td>\n",
       "      <td>270</td>\n",
       "      <td>475</td>\n",
       "      <td>21880</td>\n",
       "      <td>280421</td>\n",
       "      <td>2</td>\n",
       "      <td>3</td>\n",
       "      <td>8</td>\n",
       "      <td>0</td>\n",
       "    </tr>\n",
       "    <tr>\n",
       "      <th>199</th>\n",
       "      <td>3184</td>\n",
       "      <td>955</td>\n",
       "      <td>276</td>\n",
       "      <td>684</td>\n",
       "      <td>35565</td>\n",
       "      <td>388025</td>\n",
       "      <td>1</td>\n",
       "      <td>3</td>\n",
       "      <td>8</td>\n",
       "      <td>0</td>\n",
       "    </tr>\n",
       "    <tr>\n",
       "      <th>200</th>\n",
       "      <td>3334</td>\n",
       "      <td>867</td>\n",
       "      <td>369</td>\n",
       "      <td>652</td>\n",
       "      <td>19985</td>\n",
       "      <td>376892</td>\n",
       "      <td>1</td>\n",
       "      <td>2</td>\n",
       "      <td>5</td>\n",
       "      <td>0</td>\n",
       "    </tr>\n",
       "    <tr>\n",
       "      <th>201</th>\n",
       "      <td>3988</td>\n",
       "      <td>1157</td>\n",
       "      <td>105</td>\n",
       "      <td>382</td>\n",
       "      <td>11980</td>\n",
       "      <td>257580</td>\n",
       "      <td>0</td>\n",
       "      <td>0</td>\n",
       "      <td>4</td>\n",
       "      <td>0</td>\n",
       "    </tr>\n",
       "  </tbody>\n",
       "</table>\n",
       "</div>"
      ],
      "text/plain": [
       "     ingresos  gastos_comunes  pago_coche  gastos_otros  ahorros  vivienda  \\\n",
       "192      4653            1024         447           703    16952    392957   \n",
       "193      3390             881         194           584    34601    304112   \n",
       "194      2969             623          72           620    29663    289205   \n",
       "195      4169            1292          48           333    28503    239872   \n",
       "196      4054            1095         371           440    22183    223971   \n",
       "197      3831             690         352           488    10723    363120   \n",
       "198      3961            1030         270           475    21880    280421   \n",
       "199      3184             955         276           684    35565    388025   \n",
       "200      3334             867         369           652    19985    376892   \n",
       "201      3988            1157         105           382    11980    257580   \n",
       "\n",
       "     estado_civil  hijos  trabajo  comprar  \n",
       "192             0      0        3        0  \n",
       "193             2      2        5        0  \n",
       "194             2      2        6        0  \n",
       "195             2      1        7        1  \n",
       "196             1      0        3        0  \n",
       "197             0      0        2        0  \n",
       "198             2      3        8        0  \n",
       "199             1      3        8        0  \n",
       "200             1      2        5        0  \n",
       "201             0      0        4        0  "
      ]
     },
     "execution_count": 4,
     "metadata": {},
     "output_type": "execute_result"
    }
   ],
   "source": [
    "#cargamos los datos de entrada\n",
    "dataframe = pd.read_csv(r\"comprar_alquilar.csv\")\n",
    "dataframe.tail(10)\n",
    " "
   ]
  },
  {
   "cell_type": "code",
   "execution_count": 7,
   "metadata": {},
   "outputs": [],
   "source": [
    "#normalizamos los datos\n",
    "scaler=StandardScaler()\n",
    "df = dataframe.drop(['comprar'], axis=1) # quito la variable dependiente \"Y\"\n",
    "scaler.fit(df) # calculo la media para poder hacer la transformacion\n",
    "X_scaled=scaler.transform(df)# Ahora si, escalo los datos y los normalizo"
   ]
  },
  {
   "cell_type": "code",
   "execution_count": 8,
   "metadata": {},
   "outputs": [],
   "source": [
    "#Instanciamos objeto PCA y aplicamos\n",
    "pca=PCA(n_components=9) # Otra opción es instanciar pca sólo con dimensiones nuevas hasta obtener un mínimo \"explicado\" ej.: pca=PCA(.85)\n",
    "pca.fit(X_scaled) # obtener los componentes principales\n",
    "X_pca=pca.transform(X_scaled) # convertimos nuestros datos con las nuevas dimensiones de PCA"
   ]
  },
  {
   "cell_type": "code",
   "execution_count": 20,
   "metadata": {},
   "outputs": [
    {
     "data": {
      "text/plain": [
       "array([[-1.32191526e+00, -2.22950449e-01],\n",
       "       [-1.14787775e+00,  1.71696730e+00],\n",
       "       [-9.03686386e-02,  1.83606627e+00],\n",
       "       [-3.45589830e+00, -7.82794846e-02],\n",
       "       [-9.16933051e-01, -1.18467627e+00],\n",
       "       [-1.61675597e-01,  1.58769803e+00],\n",
       "       [-1.32929693e+00,  6.19830337e-01],\n",
       "       [-2.72915796e+00, -7.70155397e-01],\n",
       "       [-1.40905572e+00, -8.62594441e-01],\n",
       "       [-4.14684809e-01,  1.45543819e+00],\n",
       "       [-3.13703889e+00, -1.13057762e+00],\n",
       "       [-9.93648298e-01, -2.43604442e-02],\n",
       "       [-7.42819170e-01,  2.28934148e+00],\n",
       "       [-1.91975431e-01,  1.98352921e+00],\n",
       "       [-1.36837488e+00,  1.73271005e+00],\n",
       "       [ 2.38550565e-01,  2.44264787e-02],\n",
       "       [-4.90697706e-01,  1.59335303e+00],\n",
       "       [-1.02899431e+00,  2.41039571e+00],\n",
       "       [-3.53541621e+00, -2.49292265e-01],\n",
       "       [-8.93739577e-01,  1.15026447e+00],\n",
       "       [-1.73592534e+00, -2.19149429e-01],\n",
       "       [-1.17751513e+00,  2.06041344e+00],\n",
       "       [-3.58960373e+00, -5.53079412e-01],\n",
       "       [ 1.97957848e-01,  1.47819602e+00],\n",
       "       [-1.05189814e+00, -1.71162434e+00],\n",
       "       [-1.91719870e+00, -6.86799129e-01],\n",
       "       [ 3.26753200e-01,  1.39719833e+00],\n",
       "       [-2.59103814e+00, -9.79723696e-02],\n",
       "       [-2.62102370e+00,  6.66513172e-03],\n",
       "       [ 5.14425515e-01,  2.13823317e+00],\n",
       "       [-6.71851756e-01,  1.94538712e+00],\n",
       "       [-1.29906498e+00, -6.65529730e-01],\n",
       "       [-6.13490866e-01,  2.00979445e+00],\n",
       "       [-1.88517488e+00, -1.64545669e+00],\n",
       "       [-1.78625525e+00, -7.30290148e-01],\n",
       "       [-7.68050406e-01,  1.48667524e+00],\n",
       "       [-3.13394088e+00, -9.01739600e-01],\n",
       "       [-4.96930520e-01,  1.71527786e+00],\n",
       "       [-5.00773464e-01,  9.35531245e-01],\n",
       "       [-1.63359820e+00,  1.93639602e+00],\n",
       "       [-3.24264679e+00, -8.51283350e-01],\n",
       "       [-9.92431444e-01,  6.59841980e-01],\n",
       "       [-1.17867015e+00,  1.12393187e+00],\n",
       "       [-1.13589113e+00,  2.88461460e+00],\n",
       "       [-2.18071040e+00, -7.18464481e-01],\n",
       "       [-7.19148949e-01, -3.38862527e-01],\n",
       "       [-5.68971691e-02, -1.36345976e+00],\n",
       "       [-8.20075681e-02,  5.38833929e-01],\n",
       "       [-5.65644084e-01,  1.29491266e+00],\n",
       "       [-2.89004711e+00, -1.53733320e-01],\n",
       "       [ 1.99304936e-01,  9.76822682e-01],\n",
       "       [ 1.53603653e+00,  4.51112838e-02],\n",
       "       [ 2.81017916e+00, -1.85152435e-01],\n",
       "       [ 1.90113252e+00, -1.65205221e-01],\n",
       "       [ 8.83129826e-01, -2.71969211e+00],\n",
       "       [ 2.21180986e+00,  8.29102367e-01],\n",
       "       [ 9.97493184e-01, -7.87030724e-01],\n",
       "       [ 7.02003130e-01, -1.93143798e+00],\n",
       "       [-1.01145113e+00, -1.94776946e+00],\n",
       "       [-6.41335064e-01, -2.05290999e+00],\n",
       "       [ 1.76984343e+00,  1.45563140e+00],\n",
       "       [ 7.43215171e-01, -1.32785520e-03],\n",
       "       [-6.06283807e-01, -2.02560479e+00],\n",
       "       [ 2.36515470e+00,  5.66697545e-01],\n",
       "       [ 1.13285491e+00, -2.97157851e+00],\n",
       "       [ 2.28102467e+00, -2.15406948e-01],\n",
       "       [ 3.21269034e+00, -1.90590169e-01],\n",
       "       [ 4.65738141e-01, -1.87317229e+00],\n",
       "       [ 2.12355403e+00, -3.82541499e-01],\n",
       "       [ 1.03582826e+00, -1.94732843e+00],\n",
       "       [ 1.98346825e+00,  4.75056473e-01],\n",
       "       [ 1.11962881e+00,  2.48529733e-01],\n",
       "       [ 2.91475393e+00, -3.36847994e-01],\n",
       "       [ 3.11340084e-01,  7.39235139e-01],\n",
       "       [ 1.87279740e-01, -2.45608475e+00],\n",
       "       [ 2.90214647e+00,  8.85904771e-01],\n",
       "       [ 1.34077974e+00, -2.96525833e+00],\n",
       "       [ 1.54591730e+00,  2.19617252e+00],\n",
       "       [ 7.90009646e-01,  7.44012276e-01],\n",
       "       [ 1.14730988e+00, -1.15502929e+00],\n",
       "       [ 1.38532041e+00,  2.12311329e-01],\n",
       "       [-9.45583233e-01, -1.24749845e+00],\n",
       "       [ 1.01703333e+00, -1.70466816e+00],\n",
       "       [ 1.09967344e+00, -1.19016927e+00],\n",
       "       [ 1.94928362e+00,  8.32276034e-01],\n",
       "       [ 1.45167763e+00,  1.11054755e+00],\n",
       "       [ 9.65271013e-01, -1.63126541e+00],\n",
       "       [ 3.27556549e+00,  1.27518294e+00],\n",
       "       [ 1.39882900e+00, -4.79417012e-01],\n",
       "       [ 7.83321252e-01, -2.43384112e+00],\n",
       "       [ 7.92561256e-02, -2.63420201e+00],\n",
       "       [ 2.54315235e+00,  4.21603277e-01],\n",
       "       [ 1.32625753e+00,  5.29521612e-01],\n",
       "       [ 4.75125930e-01, -2.29149881e+00],\n",
       "       [ 7.51308098e-01, -1.86315244e+00],\n",
       "       [ 1.05823717e+00,  9.76549232e-01],\n",
       "       [-1.12302657e-01, -1.35072179e+00],\n",
       "       [ 1.04578685e+00, -2.12673322e+00],\n",
       "       [ 1.22604351e+00,  1.01969163e+00],\n",
       "       [ 1.77945903e+00, -2.43277903e+00],\n",
       "       [ 1.98042560e+00,  1.94448672e-01],\n",
       "       [-8.21861486e-01,  1.35021322e+00],\n",
       "       [-2.94243510e+00,  3.47828387e-01],\n",
       "       [-1.58704776e+00,  1.42462927e+00],\n",
       "       [ 4.11591902e-01,  1.83782710e+00],\n",
       "       [-1.99503926e+00,  9.17986623e-01],\n",
       "       [-2.71339475e+00, -6.28836700e-01],\n",
       "       [-1.28997662e+00,  9.93977320e-01],\n",
       "       [-2.91168367e+00, -6.90103534e-01],\n",
       "       [ 6.63476069e-01,  2.00700051e+00],\n",
       "       [ 9.14994989e-02,  2.28401137e+00],\n",
       "       [-2.13189582e+00,  6.53416665e-01],\n",
       "       [-1.14398986e+00, -1.51430889e+00],\n",
       "       [-9.88630981e-01, -1.01894567e+00],\n",
       "       [-1.30015905e+00, -7.87261907e-01],\n",
       "       [-7.86838858e-01,  3.04319812e+00],\n",
       "       [-5.68506198e-01,  1.13388503e+00],\n",
       "       [ 1.12559904e-01,  1.94332710e+00],\n",
       "       [-4.18100158e-01,  1.90787952e+00],\n",
       "       [-1.39004730e+00,  8.93540944e-01],\n",
       "       [-9.67689265e-01,  1.08153402e+00],\n",
       "       [-2.60121325e-01,  2.10769481e+00],\n",
       "       [-2.11625120e+00,  1.60916843e+00],\n",
       "       [-2.56897716e+00,  8.43468215e-01],\n",
       "       [-1.45165106e-01,  9.52481790e-01],\n",
       "       [-7.00429161e-01,  1.08602808e+00],\n",
       "       [-7.23819778e-01,  2.10770878e+00],\n",
       "       [ 1.12072590e-01,  1.05241871e+00],\n",
       "       [-5.04724376e-02,  1.94076814e+00],\n",
       "       [-6.68567290e-01,  9.51062878e-01],\n",
       "       [-3.44362062e-01,  1.61314671e+00],\n",
       "       [-8.77801254e-01, -9.13271012e-01],\n",
       "       [-3.10173646e+00, -8.30347766e-01],\n",
       "       [-1.81142521e+00, -7.75262806e-01],\n",
       "       [-1.65635324e+00, -1.03332003e+00],\n",
       "       [-1.77798557e+00, -1.43117433e+00],\n",
       "       [-2.44756750e+00, -1.10871092e+00],\n",
       "       [-3.75796843e-01,  1.22323661e+00],\n",
       "       [-8.93460209e-01,  1.67020632e+00],\n",
       "       [-9.55961230e-01,  1.77360273e+00],\n",
       "       [-2.57684307e+00, -3.88281700e-01],\n",
       "       [ 6.42665050e-01,  1.71279187e+00],\n",
       "       [-1.11576831e+00, -6.99501783e-03],\n",
       "       [-1.10588286e+00,  1.99496989e+00],\n",
       "       [-1.37996927e+00, -2.00243131e-01],\n",
       "       [-2.78395168e+00, -8.09696827e-01],\n",
       "       [-5.35874658e-01,  2.74159915e+00],\n",
       "       [ 2.29255813e-02,  1.93740962e+00],\n",
       "       [-2.79820129e+00,  6.96252561e-01],\n",
       "       [-1.13158265e+00, -8.88368210e-01],\n",
       "       [-3.36778001e+00, -5.68028118e-01],\n",
       "       [ 4.78042741e-02, -1.73376195e+00],\n",
       "       [ 7.66758940e-01,  3.85816205e-01],\n",
       "       [ 1.32472273e-01, -2.44757019e+00],\n",
       "       [-1.69516315e+00, -1.45707298e+00],\n",
       "       [ 1.55708639e-01, -1.60951372e+00],\n",
       "       [-4.83842045e-01, -6.35114865e-01],\n",
       "       [ 2.45774582e+00,  3.81293750e-01],\n",
       "       [ 2.91923156e+00,  1.71768435e-01],\n",
       "       [-1.69982364e-01, -2.59185303e+00],\n",
       "       [ 3.61360845e+00,  2.55355009e-01],\n",
       "       [ 1.99172596e+00, -2.48683576e-01],\n",
       "       [ 2.79747799e+00,  9.91337079e-01],\n",
       "       [ 4.54262580e-01,  1.11804054e+00],\n",
       "       [ 6.01055016e-01, -1.02021920e+00],\n",
       "       [ 1.78529451e+00,  1.95187682e+00],\n",
       "       [ 1.13761434e+00,  4.25009035e-01],\n",
       "       [ 2.22850389e-01, -2.42190879e+00],\n",
       "       [ 2.20269524e+00, -1.90921489e-01],\n",
       "       [ 2.13448528e+00,  1.16001651e+00],\n",
       "       [ 2.17469841e+00, -2.87749627e-01],\n",
       "       [ 1.51182681e+00, -2.54521321e+00],\n",
       "       [ 8.03491130e-01, -2.16686582e+00],\n",
       "       [ 2.48543134e+00, -5.92463456e-01],\n",
       "       [-6.23230687e-01, -1.75895091e+00],\n",
       "       [ 3.04088107e+00,  4.36642072e-01],\n",
       "       [ 7.75144073e-01, -2.38621841e+00],\n",
       "       [ 1.02442618e+00, -2.62062647e+00],\n",
       "       [ 1.80173800e+00,  1.18823282e+00],\n",
       "       [ 1.24704137e+00, -1.01110823e+00],\n",
       "       [ 3.17592490e+00,  6.16742781e-01],\n",
       "       [ 1.12847694e+00,  1.76429520e-01],\n",
       "       [ 2.22159432e+00,  5.70597616e-01],\n",
       "       [ 1.39100842e+00,  6.21828632e-01],\n",
       "       [-4.56463842e-01, -2.16845221e+00],\n",
       "       [ 6.94942429e-01,  1.16647759e+00],\n",
       "       [ 9.86500645e-01, -2.44169677e+00],\n",
       "       [ 2.82694682e+00,  2.88197246e-01],\n",
       "       [-1.50541102e+00, -1.77049433e+00],\n",
       "       [ 1.85745639e+00, -2.94851664e+00],\n",
       "       [ 2.96581851e+00,  1.49371911e-01],\n",
       "       [-4.84965377e-02, -2.27363656e+00],\n",
       "       [ 1.64862911e-01, -1.89942701e+00],\n",
       "       [ 1.43699902e+00,  4.79617402e-01],\n",
       "       [ 2.05835510e+00,  4.62138173e-01],\n",
       "       [ 8.27607435e-01,  8.14812683e-01],\n",
       "       [ 7.49336696e-01, -1.45101733e+00],\n",
       "       [ 7.07035804e-01, -2.50616808e+00],\n",
       "       [ 2.03891749e+00,  1.37890851e+00],\n",
       "       [ 1.48146407e+00,  9.75899998e-01],\n",
       "       [ 1.51463264e+00, -3.92175921e-01],\n",
       "       [ 3.53463937e-01, -1.72020938e+00]])"
      ]
     },
     "execution_count": 20,
     "metadata": {},
     "output_type": "execute_result"
    }
   ],
   "source": [
    "X_pca[:, 0:4] # 4 cp\n",
    "X_pca[:, 0:2] # 4 cp"
   ]
  },
  {
   "cell_type": "code",
   "execution_count": 9,
   "metadata": {},
   "outputs": [
    {
     "name": "stdout",
     "output_type": "stream",
     "text": [
      "shape of X_pca (202, 9)\n",
      "[0.29913557 0.23294923 0.11711241 0.10685622 0.09635279 0.05629866\n",
      " 0.04145579 0.03017819 0.01966115]\n",
      "suma: 0.852406211771431\n"
     ]
    }
   ],
   "source": [
    "print(\"shape of X_pca\", X_pca.shape)\n",
    "expl = pca.explained_variance_ratio_\n",
    "print(expl)\n",
    "print('suma:',sum(expl[0:5]))\n",
    "#Vemos que con 5 componentes tenemos algo mas del 85% de varianza explicada"
   ]
  },
  {
   "cell_type": "code",
   "execution_count": 10,
   "metadata": {},
   "outputs": [
    {
     "data": {
      "image/png": "[encoded data removed]",
      "text/plain": [
       "<Figure size 1152x648 with 1 Axes>"
      ]
     },
     "metadata": {},
     "output_type": "display_data"
    }
   ],
   "source": [
    "#graficamos el acumulado de varianza explicada en las nuevas dimensiones\n",
    "plt.plot(np.cumsum(pca.explained_variance_ratio_))\n",
    "plt.xlabel('number of components')\n",
    "plt.ylabel('cumulative explained variance')\n",
    "plt.show()"
   ]
  },
  {
   "cell_type": "markdown",
   "metadata": {},
   "source": [
    "En esta gráfica de variabilidad explicada acumulada, vemos que tomando los primeros 5 componentes llegamos al 85%"
   ]
  },
  {
   "cell_type": "code",
   "execution_count": 16,
   "metadata": {},
   "outputs": [
    {
     "data": {
      "image/png": "[encoded data removed]",
      "text/plain": [
       "<Figure size 504x360 with 1 Axes>"
      ]
     },
     "metadata": {},
     "output_type": "display_data"
    }
   ],
   "source": [
    "#graficamos en 2 Dimensiones, tomando los 2 primeros componentes principales\n",
    "Xax=df.iloc[:,0].values\n",
    "Yax=df.iloc[:,1].values\n",
    "labels=dataframe['comprar'].values\n",
    "cdict={0:'red',1:'green'}\n",
    "labl={0:'Alquilar',1:'Comprar'}\n",
    "marker={0:'*',1:'o'}\n",
    "alpha={0:.3, 1:.5}\n",
    "fig,ax=plt.subplots(figsize=(7,5))\n",
    "fig.patch.set_facecolor('white')\n",
    "for l in np.unique(labels):\n",
    "    ix=np.where(labels==l)\n",
    "    ax.scatter(Xax[ix],Yax[ix],c=cdict[l],label=labl[l],s=40,marker=marker[l],alpha=alpha[l])\n",
    "    \n",
    "    \n",
    "plt.xlabel(\"Ingresos\",fontsize=14)\n",
    "plt.ylabel(\"Gastos Comunes\",fontsize=14)\n",
    "plt.legend()\n",
    "plt.show()"
   ]
  },
  {
   "cell_type": "code",
   "execution_count": 13,
   "metadata": {},
   "outputs": [
    {
     "data": {
      "image/png": "[encoded data removed]",
      "text/plain": [
       "<Figure size 504x360 with 1 Axes>"
      ]
     },
     "metadata": {},
     "output_type": "display_data"
    }
   ],
   "source": [
    "#graficamos en 2 Dimensiones, tomando los 2 primeros componentes principales\n",
    "Xax=X_scaled[:,0]\n",
    "Yax=X_scaled[:,1]\n",
    "labels=dataframe['comprar'].values\n",
    "cdict={0:'red',1:'green'}\n",
    "labl={0:'Alquilar',1:'Comprar'}\n",
    "marker={0:'*',1:'o'}\n",
    "alpha={0:.3, 1:.5}\n",
    "fig,ax=plt.subplots(figsize=(7,5))\n",
    "fig.patch.set_facecolor('white')\n",
    "for l in np.unique(labels):\n",
    "    ix=np.where(labels==l)\n",
    "    ax.scatter(Xax[ix],Yax[ix],c=cdict[l],label=labl[l],s=40,marker=marker[l],alpha=alpha[l])\n",
    "    \n",
    "    \n",
    "plt.xlabel(\"Ingresos\",fontsize=14)\n",
    "plt.ylabel(\"Gastos Comunes\",fontsize=14)\n",
    "plt.legend()\n",
    "plt.show()"
   ]
  },
  {
   "cell_type": "code",
   "execution_count": 17,
   "metadata": {},
   "outputs": [
    {
     "data": {
      "image/png": "[encoded data removed]",
      "text/plain": [
       "<Figure size 504x360 with 1 Axes>"
      ]
     },
     "metadata": {},
     "output_type": "display_data"
    }
   ],
   "source": [
    "#graficamos en 2 Dimensiones, tomando los 2 primeros componentes principales\n",
    "Xax=X_pca[:,0]\n",
    "Yax=X_pca[:,2]\n",
    "labels=dataframe['comprar'].values\n",
    "cdict={0:'red',1:'green'}\n",
    "labl={0:'Alquilar',1:'Comprar'}\n",
    "marker={0:'*',1:'o'}\n",
    "alpha={0:.3, 1:.5}\n",
    "fig,ax=plt.subplots(figsize=(7,5))\n",
    "fig.patch.set_facecolor('white')\n",
    "for l in np.unique(labels):\n",
    "    ix=np.where(labels==l)\n",
    "    ax.scatter(Xax[ix],Yax[ix],c=cdict[l],label=labl[l],s=40,marker=marker[l],alpha=alpha[l])\n",
    "    \n",
    "    \n",
    "plt.xlabel(\"First Principal Component\",fontsize=14)\n",
    "plt.ylabel(\"Second Principal Component\",fontsize=14)\n",
    "plt.legend()\n",
    "plt.show()"
   ]
  },
  {
   "cell_type": "markdown",
   "metadata": {},
   "source": [
    "Aquí vemos que al reducir las 9 dimensiones iniciales a tan sólo 2 logramos darnos una idea de dónde visualizar nuestras predicciones para comprar o alquilar casa."
   ]
  },
  {
   "cell_type": "markdown",
   "metadata": {},
   "source": [
    "## Conclusiones Finales"
   ]
  },
  {
   "cell_type": "markdown",
   "metadata": {},
   "source": [
    "Con PCA obtenemos:\n",
    "\n",
    "* una medida de como cada variable se asocia con las otras (matriz de covarianza)\n",
    "* La dirección en las que nuestros datos están dispersos (autovectores)\n",
    "* La relativa importancia de esas distintas direcciones (autovalores)\n",
    "\n",
    "PCA combina nuestros predictores y nos permite deshacernos de los autovectores de menor importancia relativa."
   ]
  },
  {
   "cell_type": "code",
   "execution_count": 24,
   "metadata": {},
   "outputs": [],
   "source": [
    "from sklearn.model_selection import train_test_split"
   ]
  },
  {
   "cell_type": "code",
   "execution_count": 25,
   "metadata": {},
   "outputs": [],
   "source": [
    "X = dataframe.drop(['comprar'], axis=1)\n",
    "y = dataframe.comprar"
   ]
  },
  {
   "cell_type": "code",
   "execution_count": 37,
   "metadata": {},
   "outputs": [],
   "source": [
    "X_train, X_test, y_train, y_test = train_test_split(X, y, random_state =101)"
   ]
  },
  {
   "cell_type": "code",
   "execution_count": 43,
   "metadata": {},
   "outputs": [
    {
     "data": {
      "text/plain": [
       "array([[ 0.62012866,  0.10468863, -1.69895439, ..., -1.22708822,\n",
       "         0.5623736 , -0.98441983],\n",
       "       [ 1.0639266 , -0.10162457, -0.71204191, ..., -0.02963981,\n",
       "         1.29527339,  0.59691461],\n",
       "       [ 0.89117304,  0.22626604, -0.91263388, ...,  1.1678086 ,\n",
       "        -0.17052619,  1.38758182],\n",
       "       ...,\n",
       "       [-1.05736798, -0.06109876,  0.51558094, ..., -0.02963981,\n",
       "         1.29527339,  1.38758182],\n",
       "       [-0.96801269, -0.38530521,  1.26178306, ..., -0.02963981,\n",
       "         0.5623736 ,  0.201581  ],\n",
       "       [-0.57842363,  0.68310241, -0.85646812, ..., -1.22708822,\n",
       "        -0.90342598, -0.19375261]])"
      ]
     },
     "execution_count": 43,
     "metadata": {},
     "output_type": "execute_result"
    }
   ],
   "source": [
    "#X_scaled = scaler.fit_transform(df)\n",
    "#X_pca = pca.fit_transform(X_scaled)"
   ]
  },
  {
   "cell_type": "code",
   "execution_count": 38,
   "metadata": {},
   "outputs": [],
   "source": [
    "scaler=StandardScaler()\n",
    "pca=PCA(n_components=9) # Otra opción es instanciar pca sólo con dimensiones nuevas hasta obtener un mínimo \"explicado\" ej.: pca=PCA(.85)"
   ]
  },
  {
   "cell_type": "code",
   "execution_count": 59,
   "metadata": {},
   "outputs": [],
   "source": [
    "X_train_scaled = scaler.fit_transform(X_train)\n",
    "X_test_scaled = scaler.transform(X_test)\n",
    "\n",
    "X_train_pca = pca.fit_transform(X_train_scaled)\n",
    "X_test_pca = pca.transform(X_test_scaled)\n"
   ]
  },
  {
   "cell_type": "code",
   "execution_count": 44,
   "metadata": {},
   "outputs": [
    {
     "data": {
      "text/plain": [
       "0.8235294117647058"
      ]
     },
     "execution_count": 44,
     "metadata": {},
     "output_type": "execute_result"
    }
   ],
   "source": [
    "from sklearn.tree import DecisionTreeClassifier\n",
    "\n",
    "clf = DecisionTreeClassifier()\n",
    "clf = clf.fit(X_train_scaled, y_train)\n",
    "clf.score(scaler.transform(X_test), y_test)"
   ]
  },
  {
   "cell_type": "code",
   "execution_count": 50,
   "metadata": {},
   "outputs": [
    {
     "data": {
      "text/plain": [
       "0.7254901960784313"
      ]
     },
     "execution_count": 50,
     "metadata": {},
     "output_type": "execute_result"
    }
   ],
   "source": [
    "from sklearn.tree import DecisionTreeClassifier\n",
    "\n",
    "clf = DecisionTreeClassifier()\n",
    "clf = clf.fit(X_train_pca, y_train)\n",
    "clf.score(pca.transform(scaler.transform(X_test)), y_test)"
   ]
  },
  {
   "cell_type": "code",
   "execution_count": 60,
   "metadata": {},
   "outputs": [
    {
     "data": {
      "text/plain": [
       "0.7450980392156863"
      ]
     },
     "execution_count": 60,
     "metadata": {},
     "output_type": "execute_result"
    }
   ],
   "source": [
    "from sklearn.tree import DecisionTreeClassifier\n",
    "\n",
    "clf = DecisionTreeClassifier()\n",
    "clf = clf.fit(X_train_pca, y_train)\n",
    "clf.score(X_test_pca, y_test)"
   ]
  },
  {
   "cell_type": "code",
   "execution_count": 53,
   "metadata": {},
   "outputs": [
    {
     "data": {
      "text/plain": [
       "array([4.95899505e+03, 9.71584158e+02, 2.11742574e+02, 5.15425743e+02,\n",
       "       3.87496683e+04, 3.73349639e+05, 1.02475248e+00, 1.23267327e+00,\n",
       "       4.49009901e+00])"
      ]
     },
     "execution_count": 53,
     "metadata": {},
     "output_type": "execute_result"
    }
   ],
   "source": [
    "X_train_scaled = scaler.fit_transform(X_train)\n",
    "X_test_scaled = scaler.transform(X_test)\n",
    "\n",
    "X_train_pca = pca.fit_transform(X_train_scaled)\n",
    "X_test_pca = pca.transform(X_test_scaled)\n"
   ]
  },
  {
   "cell_type": "code",
   "execution_count": 62,
   "metadata": {},
   "outputs": [
    {
     "data": {
      "text/plain": [
       "0.7254901960784313"
      ]
     },
     "execution_count": 62,
     "metadata": {},
     "output_type": "execute_result"
    }
   ],
   "source": [
    "from sklearn.tree import DecisionTreeClassifier\n",
    "\n",
    "clf = DecisionTreeClassifier()\n",
    "clf = clf.fit(X_train_pca[:, 0:5], y_train)\n",
    "clf.score(X_test_pca[:, 0:5], y_test)"
   ]
  }
 ],
 "metadata": {
  "kernelspec": {
   "display_name": "Python 3 (ipykernel)",
   "language": "python",
   "name": "python3"
  },
  "language_info": {
   "codemirror_mode": {
    "name": "ipython",
    "version": 3
   },
   "file_extension": ".py",
   "mimetype": "text/x-python",
   "name": "python",
   "nbconvert_exporter": "python",
   "pygments_lexer": "ipython3",
   "version": "3.9.7"
  }
 },
 "nbformat": 4,
 "nbformat_minor": 4
}
