{
 "cells": [
  {
   "cell_type": "markdown",
   "metadata": {},
   "source": [
    "## Data Science\n",
    "### Módulo 2 _ Machine Learning\n",
    "### Aprendizaje supervisado\n",
    "\n",
    "# KNN (K-Nearest-Neighbor)\n",
    "### `Skillsforindustry.org`\n"
   ]
  },
  {
   "cell_type": "code",
   "execution_count": 2,
   "metadata": {},
   "outputs": [],
   "source": [
    "# Importando librerías importantes\n",
    "import warnings\n",
    "warnings.filterwarnings('ignore')\n",
    "\n",
    "import matplotlib as mpl  # Importando matplotlib \n",
    "import matplotlib.pyplot as plt  \n",
    "plt.style.use('seaborn') #ggplot\n",
    "mpl.rcParams['font.family'] = 'serif'\n",
    "%matplotlib inline\n",
    "\n",
    "import numpy as np\n",
    "import pandas as pd\n",
    "import seaborn as sns"
   ]
  },
  {
   "cell_type": "code",
   "execution_count": 3,
   "metadata": {},
   "outputs": [],
   "source": [
    "data_market = pd.read_excel('Company_Data.xlsx', engine=\"openpyxl\") #pip install openpyxl"
   ]
  },
  {
   "cell_type": "code",
   "execution_count": 3,
   "metadata": {},
   "outputs": [
    {
     "data": {
      "text/html": [
       "<div>\n",
       "<style scoped>\n",
       "    .dataframe tbody tr th:only-of-type {\n",
       "        vertical-align: middle;\n",
       "    }\n",
       "\n",
       "    .dataframe tbody tr th {\n",
       "        vertical-align: top;\n",
       "    }\n",
       "\n",
       "    .dataframe thead th {\n",
       "        text-align: right;\n",
       "    }\n",
       "</style>\n",
       "<table border=\"1\" class=\"dataframe\">\n",
       "  <thead>\n",
       "    <tr style=\"text-align: right;\">\n",
       "      <th></th>\n",
       "      <th>Ticker</th>\n",
       "      <th>Name</th>\n",
       "      <th>Financial_Leverage</th>\n",
       "      <th>Gross_Margin</th>\n",
       "      <th>Sector</th>\n",
       "    </tr>\n",
       "  </thead>\n",
       "  <tbody>\n",
       "    <tr>\n",
       "      <th>0</th>\n",
       "      <td>NWWTF US Equity</td>\n",
       "      <td>NEWNOTE FINANCIAL CORP</td>\n",
       "      <td>1.197160</td>\n",
       "      <td>238.383835</td>\n",
       "      <td>Technology</td>\n",
       "    </tr>\n",
       "    <tr>\n",
       "      <th>1</th>\n",
       "      <td>IMMR US Equity</td>\n",
       "      <td>IMMERSION CORPORATION</td>\n",
       "      <td>1.501849</td>\n",
       "      <td>99.537682</td>\n",
       "      <td>Technology</td>\n",
       "    </tr>\n",
       "    <tr>\n",
       "      <th>2</th>\n",
       "      <td>IBIN US Equity</td>\n",
       "      <td>IBSG INTERNATIONAL INC</td>\n",
       "      <td>1.497611</td>\n",
       "      <td>97.610268</td>\n",
       "      <td>Technology</td>\n",
       "    </tr>\n",
       "    <tr>\n",
       "      <th>3</th>\n",
       "      <td>MINI US Equity</td>\n",
       "      <td>MOBILE MINI INC</td>\n",
       "      <td>2.554593</td>\n",
       "      <td>97.368553</td>\n",
       "      <td>Industrials</td>\n",
       "    </tr>\n",
       "    <tr>\n",
       "      <th>4</th>\n",
       "      <td>TRTN US Equity</td>\n",
       "      <td>TRITON INTERNATIONAL LTD/BER</td>\n",
       "      <td>4.734284</td>\n",
       "      <td>96.007996</td>\n",
       "      <td>Industrials</td>\n",
       "    </tr>\n",
       "    <tr>\n",
       "      <th>5</th>\n",
       "      <td>VRRM US Equity</td>\n",
       "      <td>VERRA MOBILITY CORP</td>\n",
       "      <td>4.173229</td>\n",
       "      <td>95.858124</td>\n",
       "      <td>Technology</td>\n",
       "    </tr>\n",
       "    <tr>\n",
       "      <th>6</th>\n",
       "      <td>PBX CN Equity</td>\n",
       "      <td>POWERBAND SOLUTIONS INC</td>\n",
       "      <td>3.857037</td>\n",
       "      <td>93.906090</td>\n",
       "      <td>Technology</td>\n",
       "    </tr>\n",
       "    <tr>\n",
       "      <th>7</th>\n",
       "      <td>WSON33 BZ Equity</td>\n",
       "      <td>WILSON SONS LTD-BDR</td>\n",
       "      <td>2.289726</td>\n",
       "      <td>93.352707</td>\n",
       "      <td>Industrials</td>\n",
       "    </tr>\n",
       "    <tr>\n",
       "      <th>8</th>\n",
       "      <td>ZIMCF US Equity</td>\n",
       "      <td>ZIM CORP</td>\n",
       "      <td>1.216066</td>\n",
       "      <td>93.005119</td>\n",
       "      <td>Technology</td>\n",
       "    </tr>\n",
       "    <tr>\n",
       "      <th>9</th>\n",
       "      <td>MTLO CN Equity</td>\n",
       "      <td>MARTELLO TECHNOLOGIES GROUP</td>\n",
       "      <td>1.531599</td>\n",
       "      <td>92.768982</td>\n",
       "      <td>Technology</td>\n",
       "    </tr>\n",
       "  </tbody>\n",
       "</table>\n",
       "</div>"
      ],
      "text/plain": [
       "             Ticker                          Name  Financial_Leverage  \\\n",
       "0   NWWTF US Equity        NEWNOTE FINANCIAL CORP            1.197160   \n",
       "1    IMMR US Equity         IMMERSION CORPORATION            1.501849   \n",
       "2    IBIN US Equity        IBSG INTERNATIONAL INC            1.497611   \n",
       "3    MINI US Equity               MOBILE MINI INC            2.554593   \n",
       "4    TRTN US Equity  TRITON INTERNATIONAL LTD/BER            4.734284   \n",
       "5    VRRM US Equity           VERRA MOBILITY CORP            4.173229   \n",
       "6     PBX CN Equity       POWERBAND SOLUTIONS INC            3.857037   \n",
       "7  WSON33 BZ Equity           WILSON SONS LTD-BDR            2.289726   \n",
       "8   ZIMCF US Equity                      ZIM CORP            1.216066   \n",
       "9    MTLO CN Equity   MARTELLO TECHNOLOGIES GROUP            1.531599   \n",
       "\n",
       "   Gross_Margin       Sector  \n",
       "0    238.383835   Technology  \n",
       "1     99.537682   Technology  \n",
       "2     97.610268   Technology  \n",
       "3     97.368553  Industrials  \n",
       "4     96.007996  Industrials  \n",
       "5     95.858124   Technology  \n",
       "6     93.906090   Technology  \n",
       "7     93.352707  Industrials  \n",
       "8     93.005119   Technology  \n",
       "9     92.768982   Technology  "
      ]
     },
     "execution_count": 3,
     "metadata": {},
     "output_type": "execute_result"
    }
   ],
   "source": [
    "data_market.head(10)"
   ]
  },
  {
   "cell_type": "code",
   "execution_count": 5,
   "metadata": {},
   "outputs": [
    {
     "data": {
      "text/html": [
       "<div>\n",
       "<style scoped>\n",
       "    .dataframe tbody tr th:only-of-type {\n",
       "        vertical-align: middle;\n",
       "    }\n",
       "\n",
       "    .dataframe tbody tr th {\n",
       "        vertical-align: top;\n",
       "    }\n",
       "\n",
       "    .dataframe thead th {\n",
       "        text-align: right;\n",
       "    }\n",
       "</style>\n",
       "<table border=\"1\" class=\"dataframe\">\n",
       "  <thead>\n",
       "    <tr style=\"text-align: right;\">\n",
       "      <th></th>\n",
       "      <th>Ticker</th>\n",
       "      <th>Name</th>\n",
       "      <th>Financial_Leverage</th>\n",
       "      <th>Gross_Margin</th>\n",
       "      <th>Sector</th>\n",
       "    </tr>\n",
       "  </thead>\n",
       "  <tbody>\n",
       "    <tr>\n",
       "      <th>747</th>\n",
       "      <td>BUI CN Equity</td>\n",
       "      <td>BUHLER INDUSTRIES INC</td>\n",
       "      <td>2.540352</td>\n",
       "      <td>3.740709</td>\n",
       "      <td>Industrials</td>\n",
       "    </tr>\n",
       "    <tr>\n",
       "      <th>748</th>\n",
       "      <td>TSCC US Equity</td>\n",
       "      <td>TECHNOLOGY SOLUTIONS CO</td>\n",
       "      <td>1.148148</td>\n",
       "      <td>3.139420</td>\n",
       "      <td>Technology</td>\n",
       "    </tr>\n",
       "    <tr>\n",
       "      <th>749</th>\n",
       "      <td>SOX CN Equity</td>\n",
       "      <td>STUART OLSON INC</td>\n",
       "      <td>5.429112</td>\n",
       "      <td>2.886855</td>\n",
       "      <td>Industrials</td>\n",
       "    </tr>\n",
       "    <tr>\n",
       "      <th>750</th>\n",
       "      <td>GFL CN Equity</td>\n",
       "      <td>GFL ENVIRONMENTAL INC-SUB VT</td>\n",
       "      <td>3.925050</td>\n",
       "      <td>2.677078</td>\n",
       "      <td>Industrials</td>\n",
       "    </tr>\n",
       "    <tr>\n",
       "      <th>751</th>\n",
       "      <td>SIX CN Equity</td>\n",
       "      <td>HYDRO66 HOLDINGS CORP</td>\n",
       "      <td>1.562355</td>\n",
       "      <td>2.159563</td>\n",
       "      <td>Technology</td>\n",
       "    </tr>\n",
       "    <tr>\n",
       "      <th>752</th>\n",
       "      <td>PPSI US Equity</td>\n",
       "      <td>PIONEER POWER SOLUTIONS INC</td>\n",
       "      <td>2.198812</td>\n",
       "      <td>1.974378</td>\n",
       "      <td>Industrials</td>\n",
       "    </tr>\n",
       "    <tr>\n",
       "      <th>753</th>\n",
       "      <td>FLR US Equity</td>\n",
       "      <td>FLUOR CORP</td>\n",
       "      <td>4.285391</td>\n",
       "      <td>1.729458</td>\n",
       "      <td>Industrials</td>\n",
       "    </tr>\n",
       "    <tr>\n",
       "      <th>754</th>\n",
       "      <td>IVX CN Equity</td>\n",
       "      <td>INVENTRONICS LTD</td>\n",
       "      <td>5.137114</td>\n",
       "      <td>1.265823</td>\n",
       "      <td>Industrials</td>\n",
       "    </tr>\n",
       "    <tr>\n",
       "      <th>755</th>\n",
       "      <td>FTEK US Equity</td>\n",
       "      <td>FUEL TECH INC</td>\n",
       "      <td>1.233860</td>\n",
       "      <td>0.590391</td>\n",
       "      <td>Industrials</td>\n",
       "    </tr>\n",
       "    <tr>\n",
       "      <th>756</th>\n",
       "      <td>CNRD US Equity</td>\n",
       "      <td>CONRAD INDUSTRIES INC</td>\n",
       "      <td>1.365447</td>\n",
       "      <td>0.248727</td>\n",
       "      <td>Industrials</td>\n",
       "    </tr>\n",
       "  </tbody>\n",
       "</table>\n",
       "</div>"
      ],
      "text/plain": [
       "             Ticker                          Name  Financial_Leverage  \\\n",
       "747   BUI CN Equity         BUHLER INDUSTRIES INC            2.540352   \n",
       "748  TSCC US Equity       TECHNOLOGY SOLUTIONS CO            1.148148   \n",
       "749   SOX CN Equity              STUART OLSON INC            5.429112   \n",
       "750   GFL CN Equity  GFL ENVIRONMENTAL INC-SUB VT            3.925050   \n",
       "751   SIX CN Equity         HYDRO66 HOLDINGS CORP            1.562355   \n",
       "752  PPSI US Equity   PIONEER POWER SOLUTIONS INC            2.198812   \n",
       "753   FLR US Equity                    FLUOR CORP            4.285391   \n",
       "754   IVX CN Equity              INVENTRONICS LTD            5.137114   \n",
       "755  FTEK US Equity                 FUEL TECH INC            1.233860   \n",
       "756  CNRD US Equity         CONRAD INDUSTRIES INC            1.365447   \n",
       "\n",
       "     Gross_Margin       Sector  \n",
       "747      3.740709  Industrials  \n",
       "748      3.139420   Technology  \n",
       "749      2.886855  Industrials  \n",
       "750      2.677078  Industrials  \n",
       "751      2.159563   Technology  \n",
       "752      1.974378  Industrials  \n",
       "753      1.729458  Industrials  \n",
       "754      1.265823  Industrials  \n",
       "755      0.590391  Industrials  \n",
       "756      0.248727  Industrials  "
      ]
     },
     "execution_count": 5,
     "metadata": {},
     "output_type": "execute_result"
    }
   ],
   "source": [
    "data_market.tail(10)"
   ]
  },
  {
   "cell_type": "code",
   "execution_count": 5,
   "metadata": {},
   "outputs": [
    {
     "data": {
      "text/plain": [
       "(757, 5)"
      ]
     },
     "execution_count": 5,
     "metadata": {},
     "output_type": "execute_result"
    }
   ],
   "source": [
    "data_market.shape"
   ]
  },
  {
   "cell_type": "code",
   "execution_count": 6,
   "metadata": {},
   "outputs": [
    {
     "data": {
      "text/html": [
       "<div>\n",
       "<style scoped>\n",
       "    .dataframe tbody tr th:only-of-type {\n",
       "        vertical-align: middle;\n",
       "    }\n",
       "\n",
       "    .dataframe tbody tr th {\n",
       "        vertical-align: top;\n",
       "    }\n",
       "\n",
       "    .dataframe thead th {\n",
       "        text-align: right;\n",
       "    }\n",
       "</style>\n",
       "<table border=\"1\" class=\"dataframe\">\n",
       "  <thead>\n",
       "    <tr style=\"text-align: right;\">\n",
       "      <th></th>\n",
       "      <th>Financial_Leverage</th>\n",
       "      <th>Gross_Margin</th>\n",
       "    </tr>\n",
       "  </thead>\n",
       "  <tbody>\n",
       "    <tr>\n",
       "      <th>count</th>\n",
       "      <td>757.000000</td>\n",
       "      <td>757.000000</td>\n",
       "    </tr>\n",
       "    <tr>\n",
       "      <th>mean</th>\n",
       "      <td>5.297578</td>\n",
       "      <td>40.681015</td>\n",
       "    </tr>\n",
       "    <tr>\n",
       "      <th>std</th>\n",
       "      <td>35.489308</td>\n",
       "      <td>24.458288</td>\n",
       "    </tr>\n",
       "    <tr>\n",
       "      <th>min</th>\n",
       "      <td>1.000010</td>\n",
       "      <td>0.248727</td>\n",
       "    </tr>\n",
       "    <tr>\n",
       "      <th>25%</th>\n",
       "      <td>1.556211</td>\n",
       "      <td>22.031630</td>\n",
       "    </tr>\n",
       "    <tr>\n",
       "      <th>50%</th>\n",
       "      <td>2.250932</td>\n",
       "      <td>34.941868</td>\n",
       "    </tr>\n",
       "    <tr>\n",
       "      <th>75%</th>\n",
       "      <td>3.328835</td>\n",
       "      <td>56.458176</td>\n",
       "    </tr>\n",
       "    <tr>\n",
       "      <th>max</th>\n",
       "      <td>860.761353</td>\n",
       "      <td>238.383835</td>\n",
       "    </tr>\n",
       "  </tbody>\n",
       "</table>\n",
       "</div>"
      ],
      "text/plain": [
       "       Financial_Leverage  Gross_Margin\n",
       "count          757.000000    757.000000\n",
       "mean             5.297578     40.681015\n",
       "std             35.489308     24.458288\n",
       "min              1.000010      0.248727\n",
       "25%              1.556211     22.031630\n",
       "50%              2.250932     34.941868\n",
       "75%              3.328835     56.458176\n",
       "max            860.761353    238.383835"
      ]
     },
     "execution_count": 6,
     "metadata": {},
     "output_type": "execute_result"
    }
   ],
   "source": [
    "data_market.describe()"
   ]
  },
  {
   "cell_type": "code",
   "execution_count": 7,
   "metadata": {},
   "outputs": [
    {
     "name": "stdout",
     "output_type": "stream",
     "text": [
      "<class 'pandas.core.frame.DataFrame'>\n",
      "RangeIndex: 757 entries, 0 to 756\n",
      "Data columns (total 5 columns):\n",
      " #   Column              Non-Null Count  Dtype  \n",
      "---  ------              --------------  -----  \n",
      " 0   Ticker              757 non-null    object \n",
      " 1   Name                757 non-null    object \n",
      " 2   Financial_Leverage  757 non-null    float64\n",
      " 3   Gross_Margin        757 non-null    float64\n",
      " 4   Sector              757 non-null    object \n",
      "dtypes: float64(2), object(3)\n",
      "memory usage: 29.7+ KB\n"
     ]
    }
   ],
   "source": [
    "data_market.info()"
   ]
  },
  {
   "cell_type": "code",
   "execution_count": 8,
   "metadata": {},
   "outputs": [
    {
     "data": {
      "image/png": "[encoded data removed]",
      "text/plain": [
       "<Figure size 1080x432 with 2 Axes>"
      ]
     },
     "metadata": {
      "needs_background": "light"
     },
     "output_type": "display_data"
    }
   ],
   "source": [
    "f, axes = plt.subplots(ncols = 2, figsize = (15,6))\n",
    "\n",
    "sns.distplot(data_market['Financial_Leverage'], kde = True, color= \"darkgreen\", ax=axes[0])\n",
    "\n",
    "sns.distplot(data_market['Gross_Margin'], kde = True, color = \"darkblue\", ax=axes[1]);"
   ]
  },
  {
   "cell_type": "code",
   "execution_count": 10,
   "metadata": {},
   "outputs": [],
   "source": [
    "filter_data = data_market[(data_market['Financial_Leverage'] < 10) & (data_market['Gross_Margin'] < 80)] "
   ]
  },
  {
   "cell_type": "code",
   "execution_count": 11,
   "metadata": {},
   "outputs": [
    {
     "data": {
      "text/plain": [
       "(677, 5)"
      ]
     },
     "execution_count": 11,
     "metadata": {},
     "output_type": "execute_result"
    }
   ],
   "source": [
    "filter_data.shape"
   ]
  },
  {
   "cell_type": "code",
   "execution_count": 12,
   "metadata": {},
   "outputs": [
    {
     "data": {
      "text/html": [
       "<div>\n",
       "<style scoped>\n",
       "    .dataframe tbody tr th:only-of-type {\n",
       "        vertical-align: middle;\n",
       "    }\n",
       "\n",
       "    .dataframe tbody tr th {\n",
       "        vertical-align: top;\n",
       "    }\n",
       "\n",
       "    .dataframe thead th {\n",
       "        text-align: right;\n",
       "    }\n",
       "</style>\n",
       "<table border=\"1\" class=\"dataframe\">\n",
       "  <thead>\n",
       "    <tr style=\"text-align: right;\">\n",
       "      <th></th>\n",
       "      <th>Financial_Leverage</th>\n",
       "      <th>Gross_Margin</th>\n",
       "    </tr>\n",
       "  </thead>\n",
       "  <tbody>\n",
       "    <tr>\n",
       "      <th>count</th>\n",
       "      <td>677.000000</td>\n",
       "      <td>677.000000</td>\n",
       "    </tr>\n",
       "    <tr>\n",
       "      <th>mean</th>\n",
       "      <td>2.689814</td>\n",
       "      <td>37.015972</td>\n",
       "    </tr>\n",
       "    <tr>\n",
       "      <th>std</th>\n",
       "      <td>1.670008</td>\n",
       "      <td>20.353657</td>\n",
       "    </tr>\n",
       "    <tr>\n",
       "      <th>min</th>\n",
       "      <td>1.000010</td>\n",
       "      <td>0.248727</td>\n",
       "    </tr>\n",
       "    <tr>\n",
       "      <th>25%</th>\n",
       "      <td>1.539783</td>\n",
       "      <td>21.115562</td>\n",
       "    </tr>\n",
       "    <tr>\n",
       "      <th>50%</th>\n",
       "      <td>2.196053</td>\n",
       "      <td>33.248943</td>\n",
       "    </tr>\n",
       "    <tr>\n",
       "      <th>75%</th>\n",
       "      <td>3.187492</td>\n",
       "      <td>51.785156</td>\n",
       "    </tr>\n",
       "    <tr>\n",
       "      <th>max</th>\n",
       "      <td>9.990330</td>\n",
       "      <td>79.968315</td>\n",
       "    </tr>\n",
       "  </tbody>\n",
       "</table>\n",
       "</div>"
      ],
      "text/plain": [
       "       Financial_Leverage  Gross_Margin\n",
       "count          677.000000    677.000000\n",
       "mean             2.689814     37.015972\n",
       "std              1.670008     20.353657\n",
       "min              1.000010      0.248727\n",
       "25%              1.539783     21.115562\n",
       "50%              2.196053     33.248943\n",
       "75%              3.187492     51.785156\n",
       "max              9.990330     79.968315"
      ]
     },
     "execution_count": 12,
     "metadata": {},
     "output_type": "execute_result"
    }
   ],
   "source": [
    "filter_data.describe()"
   ]
  },
  {
   "cell_type": "code",
   "execution_count": 13,
   "metadata": {},
   "outputs": [
    {
     "data": {
      "image/png": "[encoded data removed]",
      "text/plain": [
       "<Figure size 1080x432 with 2 Axes>"
      ]
     },
     "metadata": {
      "needs_background": "light"
     },
     "output_type": "display_data"
    }
   ],
   "source": [
    "f, axes = plt.subplots(ncols = 2, figsize = (15,6))\n",
    "\n",
    "sns.distplot(filter_data['Financial_Leverage'], kde = True, color= \"darkgreen\", ax=axes[0])\n",
    "\n",
    "sns.distplot(filter_data['Gross_Margin'], kde = True, color = \"darkblue\", ax=axes[1]);"
   ]
  },
  {
   "cell_type": "code",
   "execution_count": 14,
   "metadata": {},
   "outputs": [
    {
     "data": {
      "text/plain": [
       "Index(['Ticker', 'Name', 'Financial_Leverage', 'Gross_Margin', 'Sector'], dtype='object')"
      ]
     },
     "execution_count": 14,
     "metadata": {},
     "output_type": "execute_result"
    }
   ],
   "source": [
    "filter_data.keys()"
   ]
  },
  {
   "cell_type": "code",
   "execution_count": 15,
   "metadata": {},
   "outputs": [
    {
     "name": "stdout",
     "output_type": "stream",
     "text": [
      "<class 'pandas.core.frame.DataFrame'>\n",
      "Int64Index: 677 entries, 52 to 756\n",
      "Data columns (total 5 columns):\n",
      " #   Column              Non-Null Count  Dtype  \n",
      "---  ------              --------------  -----  \n",
      " 0   Ticker              677 non-null    object \n",
      " 1   Name                677 non-null    object \n",
      " 2   Financial_Leverage  677 non-null    float64\n",
      " 3   Gross_Margin        677 non-null    float64\n",
      " 4   Sector              677 non-null    object \n",
      "dtypes: float64(2), object(3)\n",
      "memory usage: 31.7+ KB\n"
     ]
    }
   ],
   "source": [
    "filter_data.info()"
   ]
  },
  {
   "cell_type": "code",
   "execution_count": 19,
   "metadata": {},
   "outputs": [
    {
     "data": {
      "text/plain": [
       "Industrials    468\n",
       "Technology     209\n",
       "Name: Sector, dtype: int64"
      ]
     },
     "execution_count": 19,
     "metadata": {},
     "output_type": "execute_result"
    }
   ],
   "source": [
    "filter_data['Sector'].value_counts()"
   ]
  },
  {
   "cell_type": "code",
   "execution_count": 17,
   "metadata": {},
   "outputs": [
    {
     "data": {
      "image/png": "[encoded data removed]",
      "text/plain": [
       "<Figure size 720x432 with 1 Axes>"
      ]
     },
     "metadata": {
      "needs_background": "light"
     },
     "output_type": "display_data"
    }
   ],
   "source": [
    "f, ax = plt.subplots(figsize = (10,6))\n",
    "sns.scatterplot(filter_data['Gross_Margin'],filter_data['Financial_Leverage'], hue= filter_data['Sector']);"
   ]
  },
  {
   "cell_type": "code",
   "execution_count": 20,
   "metadata": {},
   "outputs": [
    {
     "data": {
      "text/plain": [
       "Index(['Ticker', 'Name', 'Financial_Leverage', 'Gross_Margin', 'Sector'], dtype='object')"
      ]
     },
     "execution_count": 20,
     "metadata": {},
     "output_type": "execute_result"
    }
   ],
   "source": [
    "filter_data.keys()"
   ]
  },
  {
   "cell_type": "code",
   "execution_count": 24,
   "metadata": {},
   "outputs": [
    {
     "data": {
      "text/plain": [
       "'string'"
      ]
     },
     "execution_count": 24,
     "metadata": {},
     "output_type": "execute_result"
    }
   ],
   "source": [
    "filter_data['Sector_Code'] = filter_data['Sector'].astype('category').cat.codes\n",
    "#df[\"string\"].str.lower()\n",
    "\n",
    "\n",
    "#data[\"Complaint_Code\"] = data[\"Complaint_Code\"].astype('category').cat.codes"
   ]
  },
  {
   "cell_type": "code",
   "execution_count": 25,
   "metadata": {},
   "outputs": [
    {
     "data": {
      "text/html": [
       "<div>\n",
       "<style scoped>\n",
       "    .dataframe tbody tr th:only-of-type {\n",
       "        vertical-align: middle;\n",
       "    }\n",
       "\n",
       "    .dataframe tbody tr th {\n",
       "        vertical-align: top;\n",
       "    }\n",
       "\n",
       "    .dataframe thead th {\n",
       "        text-align: right;\n",
       "    }\n",
       "</style>\n",
       "<table border=\"1\" class=\"dataframe\">\n",
       "  <thead>\n",
       "    <tr style=\"text-align: right;\">\n",
       "      <th></th>\n",
       "      <th>Ticker</th>\n",
       "      <th>Name</th>\n",
       "      <th>Financial_Leverage</th>\n",
       "      <th>Gross_Margin</th>\n",
       "      <th>Sector</th>\n",
       "      <th>Sector_Code</th>\n",
       "    </tr>\n",
       "  </thead>\n",
       "  <tbody>\n",
       "    <tr>\n",
       "      <th>52</th>\n",
       "      <td>DT US Equity</td>\n",
       "      <td>DYNATRACE INC</td>\n",
       "      <td>2.196130</td>\n",
       "      <td>79.968315</td>\n",
       "      <td>Technology</td>\n",
       "      <td>1</td>\n",
       "    </tr>\n",
       "    <tr>\n",
       "      <th>53</th>\n",
       "      <td>INTU US Equity</td>\n",
       "      <td>INTUIT INC</td>\n",
       "      <td>1.750543</td>\n",
       "      <td>79.952827</td>\n",
       "      <td>Technology</td>\n",
       "      <td>1</td>\n",
       "    </tr>\n",
       "    <tr>\n",
       "      <th>54</th>\n",
       "      <td>ORCL US Equity</td>\n",
       "      <td>ORACLE CORP</td>\n",
       "      <td>6.548997</td>\n",
       "      <td>79.950996</td>\n",
       "      <td>Technology</td>\n",
       "      <td>1</td>\n",
       "    </tr>\n",
       "    <tr>\n",
       "      <th>55</th>\n",
       "      <td>SAIL US Equity</td>\n",
       "      <td>SAILPOINT TECHNOLOGIES HOLDI</td>\n",
       "      <td>2.251183</td>\n",
       "      <td>79.812134</td>\n",
       "      <td>Technology</td>\n",
       "      <td>1</td>\n",
       "    </tr>\n",
       "    <tr>\n",
       "      <th>56</th>\n",
       "      <td>MOBL US Equity</td>\n",
       "      <td>MOBILEIRON INC</td>\n",
       "      <td>5.467947</td>\n",
       "      <td>79.810677</td>\n",
       "      <td>Technology</td>\n",
       "      <td>1</td>\n",
       "    </tr>\n",
       "    <tr>\n",
       "      <th>57</th>\n",
       "      <td>QLYS US Equity</td>\n",
       "      <td>QUALYS INC</td>\n",
       "      <td>1.740421</td>\n",
       "      <td>79.728104</td>\n",
       "      <td>Technology</td>\n",
       "      <td>1</td>\n",
       "    </tr>\n",
       "    <tr>\n",
       "      <th>58</th>\n",
       "      <td>WSP CN Equity</td>\n",
       "      <td>WSP GLOBAL INC</td>\n",
       "      <td>2.598536</td>\n",
       "      <td>79.694923</td>\n",
       "      <td>Industrials</td>\n",
       "      <td>0</td>\n",
       "    </tr>\n",
       "    <tr>\n",
       "      <th>59</th>\n",
       "      <td>KICK US Equity</td>\n",
       "      <td>HPN HOLDINGS INC</td>\n",
       "      <td>1.268671</td>\n",
       "      <td>79.503105</td>\n",
       "      <td>Technology</td>\n",
       "      <td>1</td>\n",
       "    </tr>\n",
       "    <tr>\n",
       "      <th>60</th>\n",
       "      <td>ECOM US Equity</td>\n",
       "      <td>CHANNELADVISOR CORP</td>\n",
       "      <td>1.508526</td>\n",
       "      <td>79.491013</td>\n",
       "      <td>Technology</td>\n",
       "      <td>1</td>\n",
       "    </tr>\n",
       "    <tr>\n",
       "      <th>61</th>\n",
       "      <td>PS US Equity</td>\n",
       "      <td>PLURALSIGHT INC - A</td>\n",
       "      <td>5.845233</td>\n",
       "      <td>79.483192</td>\n",
       "      <td>Technology</td>\n",
       "      <td>1</td>\n",
       "    </tr>\n",
       "    <tr>\n",
       "      <th>62</th>\n",
       "      <td>NOW US Equity</td>\n",
       "      <td>SERVICENOW INC</td>\n",
       "      <td>2.781007</td>\n",
       "      <td>78.652634</td>\n",
       "      <td>Technology</td>\n",
       "      <td>1</td>\n",
       "    </tr>\n",
       "    <tr>\n",
       "      <th>63</th>\n",
       "      <td>NET US Equity</td>\n",
       "      <td>CLOUDFLARE INC - CLASS A</td>\n",
       "      <td>1.845699</td>\n",
       "      <td>78.317642</td>\n",
       "      <td>Technology</td>\n",
       "      <td>1</td>\n",
       "    </tr>\n",
       "    <tr>\n",
       "      <th>64</th>\n",
       "      <td>MSTR US Equity</td>\n",
       "      <td>MICROSTRATEGY INC-CL A</td>\n",
       "      <td>1.820484</td>\n",
       "      <td>77.971535</td>\n",
       "      <td>Technology</td>\n",
       "      <td>1</td>\n",
       "    </tr>\n",
       "    <tr>\n",
       "      <th>65</th>\n",
       "      <td>DDOG US Equity</td>\n",
       "      <td>DATADOG INC - CLASS A</td>\n",
       "      <td>1.316185</td>\n",
       "      <td>77.364403</td>\n",
       "      <td>Technology</td>\n",
       "      <td>1</td>\n",
       "    </tr>\n",
       "    <tr>\n",
       "      <th>67</th>\n",
       "      <td>FTNT US Equity</td>\n",
       "      <td>FORTINET INC</td>\n",
       "      <td>2.946160</td>\n",
       "      <td>77.132164</td>\n",
       "      <td>Technology</td>\n",
       "      <td>1</td>\n",
       "    </tr>\n",
       "    <tr>\n",
       "      <th>68</th>\n",
       "      <td>FSCT US Equity</td>\n",
       "      <td>FORESCOUT TECHNOLOGIES INC</td>\n",
       "      <td>4.259575</td>\n",
       "      <td>76.979340</td>\n",
       "      <td>Technology</td>\n",
       "      <td>1</td>\n",
       "    </tr>\n",
       "    <tr>\n",
       "      <th>69</th>\n",
       "      <td>ERII US Equity</td>\n",
       "      <td>ENERGY RECOVERY INC</td>\n",
       "      <td>1.401061</td>\n",
       "      <td>76.965286</td>\n",
       "      <td>Industrials</td>\n",
       "      <td>0</td>\n",
       "    </tr>\n",
       "    <tr>\n",
       "      <th>70</th>\n",
       "      <td>PTC US Equity</td>\n",
       "      <td>PTC INC</td>\n",
       "      <td>2.833698</td>\n",
       "      <td>76.911484</td>\n",
       "      <td>Technology</td>\n",
       "      <td>1</td>\n",
       "    </tr>\n",
       "    <tr>\n",
       "      <th>71</th>\n",
       "      <td>SNPS US Equity</td>\n",
       "      <td>SYNOPSYS INC</td>\n",
       "      <td>1.653101</td>\n",
       "      <td>76.884903</td>\n",
       "      <td>Technology</td>\n",
       "      <td>1</td>\n",
       "    </tr>\n",
       "    <tr>\n",
       "      <th>72</th>\n",
       "      <td>PING US Equity</td>\n",
       "      <td>PING IDENTITY HOLDING CORP</td>\n",
       "      <td>1.237826</td>\n",
       "      <td>76.708435</td>\n",
       "      <td>Technology</td>\n",
       "      <td>1</td>\n",
       "    </tr>\n",
       "  </tbody>\n",
       "</table>\n",
       "</div>"
      ],
      "text/plain": [
       "            Ticker                          Name  Financial_Leverage  \\\n",
       "52    DT US Equity                 DYNATRACE INC            2.196130   \n",
       "53  INTU US Equity                    INTUIT INC            1.750543   \n",
       "54  ORCL US Equity                   ORACLE CORP            6.548997   \n",
       "55  SAIL US Equity  SAILPOINT TECHNOLOGIES HOLDI            2.251183   \n",
       "56  MOBL US Equity                MOBILEIRON INC            5.467947   \n",
       "57  QLYS US Equity                    QUALYS INC            1.740421   \n",
       "58   WSP CN Equity                WSP GLOBAL INC            2.598536   \n",
       "59  KICK US Equity              HPN HOLDINGS INC            1.268671   \n",
       "60  ECOM US Equity           CHANNELADVISOR CORP            1.508526   \n",
       "61    PS US Equity           PLURALSIGHT INC - A            5.845233   \n",
       "62   NOW US Equity                SERVICENOW INC            2.781007   \n",
       "63   NET US Equity      CLOUDFLARE INC - CLASS A            1.845699   \n",
       "64  MSTR US Equity        MICROSTRATEGY INC-CL A            1.820484   \n",
       "65  DDOG US Equity         DATADOG INC - CLASS A            1.316185   \n",
       "67  FTNT US Equity                  FORTINET INC            2.946160   \n",
       "68  FSCT US Equity    FORESCOUT TECHNOLOGIES INC            4.259575   \n",
       "69  ERII US Equity           ENERGY RECOVERY INC            1.401061   \n",
       "70   PTC US Equity                       PTC INC            2.833698   \n",
       "71  SNPS US Equity                  SYNOPSYS INC            1.653101   \n",
       "72  PING US Equity    PING IDENTITY HOLDING CORP            1.237826   \n",
       "\n",
       "    Gross_Margin       Sector  Sector_Code  \n",
       "52     79.968315   Technology            1  \n",
       "53     79.952827   Technology            1  \n",
       "54     79.950996   Technology            1  \n",
       "55     79.812134   Technology            1  \n",
       "56     79.810677   Technology            1  \n",
       "57     79.728104   Technology            1  \n",
       "58     79.694923  Industrials            0  \n",
       "59     79.503105   Technology            1  \n",
       "60     79.491013   Technology            1  \n",
       "61     79.483192   Technology            1  \n",
       "62     78.652634   Technology            1  \n",
       "63     78.317642   Technology            1  \n",
       "64     77.971535   Technology            1  \n",
       "65     77.364403   Technology            1  \n",
       "67     77.132164   Technology            1  \n",
       "68     76.979340   Technology            1  \n",
       "69     76.965286  Industrials            0  \n",
       "70     76.911484   Technology            1  \n",
       "71     76.884903   Technology            1  \n",
       "72     76.708435   Technology            1  "
      ]
     },
     "execution_count": 25,
     "metadata": {},
     "output_type": "execute_result"
    }
   ],
   "source": [
    "filter_data.head(20)"
   ]
  },
  {
   "cell_type": "code",
   "execution_count": 21,
   "metadata": {},
   "outputs": [
    {
     "data": {
      "text/plain": [
       "0    468\n",
       "1    209\n",
       "Name: Sector_Code, dtype: int64"
      ]
     },
     "execution_count": 21,
     "metadata": {},
     "output_type": "execute_result"
    }
   ],
   "source": [
    "filter_data['Sector_Code'].value_counts()"
   ]
  },
  {
   "cell_type": "code",
   "execution_count": 26,
   "metadata": {},
   "outputs": [
    {
     "name": "stdout",
     "output_type": "stream",
     "text": [
      "<class 'pandas.core.frame.DataFrame'>\n",
      "Int64Index: 677 entries, 52 to 756\n",
      "Data columns (total 6 columns):\n",
      " #   Column              Non-Null Count  Dtype  \n",
      "---  ------              --------------  -----  \n",
      " 0   Ticker              677 non-null    object \n",
      " 1   Name                677 non-null    object \n",
      " 2   Financial_Leverage  677 non-null    float64\n",
      " 3   Gross_Margin        677 non-null    float64\n",
      " 4   Sector              677 non-null    object \n",
      " 5   Sector_Code         677 non-null    int8   \n",
      "dtypes: float64(2), int8(1), object(3)\n",
      "memory usage: 32.4+ KB\n"
     ]
    }
   ],
   "source": [
    "filter_data.info()"
   ]
  },
  {
   "cell_type": "code",
   "execution_count": 28,
   "metadata": {},
   "outputs": [],
   "source": [
    "X = filter_data[['Financial_Leverage', 'Gross_Margin']]"
   ]
  },
  {
   "cell_type": "code",
   "execution_count": 29,
   "metadata": {},
   "outputs": [
    {
     "data": {
      "text/plain": [
       "(677, 2)"
      ]
     },
     "execution_count": 29,
     "metadata": {},
     "output_type": "execute_result"
    }
   ],
   "source": [
    "X.shape"
   ]
  },
  {
   "cell_type": "code",
   "execution_count": 30,
   "metadata": {},
   "outputs": [
    {
     "data": {
      "text/html": [
       "<div>\n",
       "<style scoped>\n",
       "    .dataframe tbody tr th:only-of-type {\n",
       "        vertical-align: middle;\n",
       "    }\n",
       "\n",
       "    .dataframe tbody tr th {\n",
       "        vertical-align: top;\n",
       "    }\n",
       "\n",
       "    .dataframe thead th {\n",
       "        text-align: right;\n",
       "    }\n",
       "</style>\n",
       "<table border=\"1\" class=\"dataframe\">\n",
       "  <thead>\n",
       "    <tr style=\"text-align: right;\">\n",
       "      <th></th>\n",
       "      <th>Financial_Leverage</th>\n",
       "      <th>Gross_Margin</th>\n",
       "    </tr>\n",
       "  </thead>\n",
       "  <tbody>\n",
       "    <tr>\n",
       "      <th>52</th>\n",
       "      <td>2.196130</td>\n",
       "      <td>79.968315</td>\n",
       "    </tr>\n",
       "    <tr>\n",
       "      <th>53</th>\n",
       "      <td>1.750543</td>\n",
       "      <td>79.952827</td>\n",
       "    </tr>\n",
       "    <tr>\n",
       "      <th>54</th>\n",
       "      <td>6.548997</td>\n",
       "      <td>79.950996</td>\n",
       "    </tr>\n",
       "    <tr>\n",
       "      <th>55</th>\n",
       "      <td>2.251183</td>\n",
       "      <td>79.812134</td>\n",
       "    </tr>\n",
       "    <tr>\n",
       "      <th>56</th>\n",
       "      <td>5.467947</td>\n",
       "      <td>79.810677</td>\n",
       "    </tr>\n",
       "    <tr>\n",
       "      <th>57</th>\n",
       "      <td>1.740421</td>\n",
       "      <td>79.728104</td>\n",
       "    </tr>\n",
       "    <tr>\n",
       "      <th>58</th>\n",
       "      <td>2.598536</td>\n",
       "      <td>79.694923</td>\n",
       "    </tr>\n",
       "    <tr>\n",
       "      <th>59</th>\n",
       "      <td>1.268671</td>\n",
       "      <td>79.503105</td>\n",
       "    </tr>\n",
       "  </tbody>\n",
       "</table>\n",
       "</div>"
      ],
      "text/plain": [
       "    Financial_Leverage  Gross_Margin\n",
       "52            2.196130     79.968315\n",
       "53            1.750543     79.952827\n",
       "54            6.548997     79.950996\n",
       "55            2.251183     79.812134\n",
       "56            5.467947     79.810677\n",
       "57            1.740421     79.728104\n",
       "58            2.598536     79.694923\n",
       "59            1.268671     79.503105"
      ]
     },
     "execution_count": 30,
     "metadata": {},
     "output_type": "execute_result"
    }
   ],
   "source": [
    "X.head(8)"
   ]
  },
  {
   "cell_type": "code",
   "execution_count": 31,
   "metadata": {},
   "outputs": [],
   "source": [
    "y = filter_data['Sector_Code']"
   ]
  },
  {
   "cell_type": "code",
   "execution_count": 32,
   "metadata": {},
   "outputs": [
    {
     "data": {
      "text/plain": [
       "(677,)"
      ]
     },
     "execution_count": 32,
     "metadata": {},
     "output_type": "execute_result"
    }
   ],
   "source": [
    "y.shape"
   ]
  },
  {
   "cell_type": "code",
   "execution_count": 33,
   "metadata": {},
   "outputs": [
    {
     "data": {
      "text/plain": [
       "52    1\n",
       "53    1\n",
       "54    1\n",
       "55    1\n",
       "56    1\n",
       "57    1\n",
       "58    0\n",
       "59    1\n",
       "Name: Sector_Code, dtype: int8"
      ]
     },
     "execution_count": 33,
     "metadata": {},
     "output_type": "execute_result"
    }
   ],
   "source": [
    "y.head(8)"
   ]
  },
  {
   "cell_type": "code",
   "execution_count": 34,
   "metadata": {},
   "outputs": [],
   "source": [
    "from sklearn.model_selection import train_test_split\n",
    "X_train, X_test, y_train, y_test = train_test_split(X,y, test_size = 0.2, random_state= 4)"
   ]
  },
  {
   "cell_type": "code",
   "execution_count": 40,
   "metadata": {},
   "outputs": [
    {
     "name": "stdout",
     "output_type": "stream",
     "text": [
      "1.0\n"
     ]
    }
   ],
   "source": [
    "from sklearn.neighbors import KNeighborsClassifier\n",
    "from sklearn import metrics\n",
    "k_range = range(1,20)\n",
    "scores = {}\n",
    "scores_list = []\n",
    "#scores_test\n",
    "for k in k_range:\n",
    "    knn = KNeighborsClassifier(n_neighbors=k)\n",
    "    knn.fit(X_train, y_train)\n",
    "    if k == 1: ## k = 1 con lo que entrené\n",
    "        print(metrics.accuracy_score(y_train, knn.predict(X_train)))\n",
    "    y_pred = knn.predict(X_test)\n",
    "    scores[k] = metrics.accuracy_score(y_test, y_pred)\n",
    "    scores_list.append(metrics.accuracy_score(y_test, y_pred))"
   ]
  },
  {
   "cell_type": "code",
   "execution_count": 33,
   "metadata": {},
   "outputs": [
    {
     "data": {
      "image/png": "[encoded data removed]",
      "text/plain": [
       "<Figure size 432x288 with 1 Axes>"
      ]
     },
     "metadata": {
      "needs_background": "light"
     },
     "output_type": "display_data"
    }
   ],
   "source": [
    "plt.plot(k_range, scores_list)\n",
    "plt.xlabel('Value of k neighbors')\n",
    "plt.xlim(0, 20)\n",
    "plt.ylim(0,1)\n",
    "plt.ylabel('Testing Accuracy');"
   ]
  },
  {
   "cell_type": "code",
   "execution_count": 41,
   "metadata": {},
   "outputs": [
    {
     "data": {
      "text/plain": [
       "[0.7794117647058824,\n",
       " 0.8088235294117647,\n",
       " 0.7720588235294118,\n",
       " 0.8308823529411765,\n",
       " 0.7941176470588235,\n",
       " 0.8088235294117647,\n",
       " 0.7867647058823529,\n",
       " 0.8088235294117647,\n",
       " 0.8014705882352942,\n",
       " 0.8088235294117647,\n",
       " 0.7867647058823529,\n",
       " 0.7794117647058824,\n",
       " 0.7794117647058824,\n",
       " 0.7867647058823529,\n",
       " 0.7794117647058824,\n",
       " 0.7867647058823529,\n",
       " 0.7867647058823529,\n",
       " 0.7941176470588235,\n",
       " 0.7941176470588235]"
      ]
     },
     "execution_count": 41,
     "metadata": {},
     "output_type": "execute_result"
    }
   ],
   "source": [
    "scores_list"
   ]
  },
  {
   "cell_type": "code",
   "execution_count": 42,
   "metadata": {},
   "outputs": [
    {
     "data": {
      "text/plain": [
       "0.8308823529411765"
      ]
     },
     "execution_count": 42,
     "metadata": {},
     "output_type": "execute_result"
    }
   ],
   "source": [
    "max(scores_list)"
   ]
  },
  {
   "cell_type": "code",
   "execution_count": 43,
   "metadata": {},
   "outputs": [
    {
     "data": {
      "text/plain": [
       "3"
      ]
     },
     "execution_count": 43,
     "metadata": {},
     "output_type": "execute_result"
    }
   ],
   "source": [
    "scores_list.index(max(scores_list))"
   ]
  },
  {
   "cell_type": "code",
   "execution_count": 47,
   "metadata": {},
   "outputs": [
    {
     "data": {
      "text/plain": [
       "KNeighborsClassifier(n_neighbors=4)"
      ]
     },
     "execution_count": 47,
     "metadata": {},
     "output_type": "execute_result"
    }
   ],
   "source": [
    "knn = KNeighborsClassifier(n_neighbors=4)\n",
    "knn.fit(X,y)"
   ]
  },
  {
   "cell_type": "code",
   "execution_count": 56,
   "metadata": {},
   "outputs": [],
   "source": [
    "classes = {0: 'Industrials', 1: 'Technology'}"
   ]
  },
  {
   "cell_type": "code",
   "execution_count": 57,
   "metadata": {},
   "outputs": [],
   "source": [
    "x_unseen = [[2,15], [1, 18], [3, 70]]"
   ]
  },
  {
   "cell_type": "code",
   "execution_count": 58,
   "metadata": {},
   "outputs": [],
   "source": [
    "y_predict = knn.predict(x_unseen)"
   ]
  },
  {
   "cell_type": "code",
   "execution_count": 59,
   "metadata": {},
   "outputs": [
    {
     "data": {
      "text/plain": [
       "array([0, 0, 1], dtype=int8)"
      ]
     },
     "execution_count": 59,
     "metadata": {},
     "output_type": "execute_result"
    }
   ],
   "source": [
    "y_predict"
   ]
  },
  {
   "cell_type": "code",
   "execution_count": 60,
   "metadata": {},
   "outputs": [
    {
     "name": "stdout",
     "output_type": "stream",
     "text": [
      "Industrials\n",
      "Industrials\n",
      "Technology\n"
     ]
    }
   ],
   "source": [
    "print(classes[y_predict[0]])\n",
    "print(classes[y_predict[1]])\n",
    "print(classes[y_predict[2]])"
   ]
  },
  {
   "cell_type": "code",
   "execution_count": null,
   "metadata": {},
   "outputs": [],
   "source": []
  }
 ],
 "metadata": {
  "kernelspec": {
   "display_name": "Python 3 (ipykernel)",
   "language": "python",
   "name": "python3"
  },
  "language_info": {
   "codemirror_mode": {
    "name": "ipython",
    "version": 3
   },
   "file_extension": ".py",
   "mimetype": "text/x-python",
   "name": "python",
   "nbconvert_exporter": "python",
   "pygments_lexer": "ipython3",
   "version": "3.9.7"
  }
 },
 "nbformat": 4,
 "nbformat_minor": 4
}
